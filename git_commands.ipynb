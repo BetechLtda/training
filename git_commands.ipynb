{
 "cells": [
  {
   "cell_type": "code",
   "execution_count": null,
   "metadata": {},
   "outputs": [],
   "source": [
    "\"\"\"Comandos para GIT\n",
    "\n",
    "GIT es un software de control de versiones. Su propósito es llevar registro de los cambios en archivos,\n",
    "para coordinar el trabajo que varias personas realizan sobre archivos compartidos en un repositorio\n",
    "de código.\n",
    "Al crear un nuevo repositorio local, se puede trabajar con más personas vía Internet, en los mismos\n",
    "proyectos y cambiar versiones\n",
    "\n",
    "git --version: muestra la versión de GIT instalada\n",
    "git init: inicia un nuevo repositorio\n",
    "git add: añade archivos al repositorio\n",
    "git add .: añade todos los archivos\n",
    "git add nombrearchivo.js: añade el archivo indicado\n",
    "git commit: guarda los cambios hechos, junto a una breve descripción \n",
    "git status: muestra el estado del repositorio\n",
    "git push: carga o sube contenido del repositorio local a un repositorio remoto\n",
    "git push origin master: subir cambios al repositorio remoto \n",
    "git push origin --delete nombre-rama: empuja los cambios a repositorio remoto\n",
    "git push origin nombre-rama: sube o empuja los cambios a la rama especificada\n",
    "git pull: extrae y descarga contenido desde un repositorio remoto y actualiza el repositorio local \n",
    "git pull origin master: traer cambios al repositorio local\n",
    "git pull origin nombre-rama: descarga los cambios de la rama señalada\n",
    "git remote add origin <server>: \n",
    "git config --global user.name \"Nombre Apellido\": vincula commits a tu nombre\n",
    "git config --global user.email \"mail@gmail.com\":  cambia correo electrónico a commits\n",
    "git log: muestra el histórico de commits\n",
    "git log --oneline: muestra cada confirmación en una sola línea\n",
    "git log -5: muestra un número de logs determinado\n",
    "git branch nombre-rama: permite crear una nueva rama\n",
    "git branch -m nuevo-nombre: cambia el nombre de la rama actual\n",
    "git branch -m nombre-antiguo nombre-nuevo: cambia el nombre de una rama\n",
    "git checkout -b nombre-rama: permite crear una nueva rama y lleva a ella\n",
    "git branch -d nombre-rama: permite eliminar la rama localmente\n",
    "git restore somefile.js: ayuda a deshacer o descartar los cambios locales no comprometidos\n",
    "git stash: toma los cambios sin confirmar, los guarda aparte para usarlos más adelante y deshace en el código actual\n",
    "git stash pop: vuelve a aplicar los cambios previamente guardados con git stash\n",
    "git fetch: descarga commits, archivos y referencias de un repositorio remoto a un repositorio local\n",
    "git clone: descarga cualquier proyecto a un repositorio local\n",
    "\n",
    "- branch: rama\n",
    "- master branch: rama por defecto\n",
    "- origin: nombre del repositorio remoto\n",
    "- master: nombre de la rama (branch)\n",
    "- untracked files: archivos que no son parte del proyecto\n",
    "- remote repository: múltiples personas pueden trabajar en el mismo proyecto\n",
    "\"\"\""
   ]
  }
 ],
 "metadata": {
  "kernelspec": {
   "display_name": "Python 3.10.6 64-bit",
   "language": "python",
   "name": "python3"
  },
  "language_info": {
   "name": "python",
   "version": "3.10.6"
  },
  "orig_nbformat": 4,
  "vscode": {
   "interpreter": {
    "hash": "3a483063e720f5d62014d1f59a05560234fef62e979851be03c905bee1a5aad2"
   }
  }
 },
 "nbformat": 4,
 "nbformat_minor": 2
}
